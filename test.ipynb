{
 "cells": [
  {
   "cell_type": "code",
   "execution_count": 10,
   "id": "bf9304cd",
   "metadata": {},
   "outputs": [],
   "source": [
    "import cenv\n",
    "env = cenv.create_env({\"min_periods\":26+9,\"window_size\":26+9})"
   ]
  },
  {
   "cell_type": "code",
   "execution_count": 27,
   "id": "79977e8b",
   "metadata": {},
   "outputs": [],
   "source": [
    "obs = env.reset()\n",
    "close = np.array(obs[:,3], dtype=float)"
   ]
  },
  {
   "cell_type": "code",
   "execution_count": 32,
   "id": "95ad834a",
   "metadata": {},
   "outputs": [],
   "source": [
    "class RSI:\n",
    "    def __init__(self):\n",
    "        self.now = 0\n",
    "    def compute_action(self, obs):\n",
    "        close = np.array(obs[:,3], dtype=float)\n",
    "        rsi = talib.RSI(close, timeperiod=close.shape[0]-1)[-1]\n",
    "        print(rsi)\n",
    "        if(rsi > 80):\n",
    "            self.now = 0\n",
    "            return 0\n",
    "        if(rsi < 20):\n",
    "            self.now = 1\n",
    "            return 1\n",
    "        return self.now\n",
    "    "
   ]
  },
  {
   "cell_type": "code",
   "execution_count": 33,
   "id": "c120599c",
   "metadata": {},
   "outputs": [],
   "source": [
    "agent = RSI()"
   ]
  },
  {
   "cell_type": "code",
   "execution_count": 36,
   "id": "f8db516d",
   "metadata": {},
   "outputs": [
    {
     "name": "stdout",
     "output_type": "stream",
     "text": [
      "[8743.         8723.70019531 8708.09960938 8784.40039062 8755.20019531\n",
      " 8762.         8742.59960938 8512.         8520.79980469 8532.09960938\n",
      " 8553.79980469 8516.5        8551.20019531 8516.70019531 8476.\n",
      " 8459.90039062 8467.5        8454.20019531 8327.90039062 8124.39990234\n",
      " 8152.         8205.29980469 8197.70019531 8223.90039062 8221.09960938\n",
      " 8194.20019531 8225.09960938 8357.20019531 8358.5        8348.59960938\n",
      " 8158.10009766 8205.90039062 8276.         8255.20019531 8286.40039062]\n",
      "36.011041379442396\n"
     ]
    }
   ],
   "source": [
    "print(close)\n",
    "print(talib.RSI(close, timeperiod=34)[-1])"
   ]
  }
 ],
 "metadata": {
  "kernelspec": {
   "display_name": "Python 3 (ipykernel)",
   "language": "python",
   "name": "python3"
  },
  "language_info": {
   "codemirror_mode": {
    "name": "ipython",
    "version": 3
   },
   "file_extension": ".py",
   "mimetype": "text/x-python",
   "name": "python",
   "nbconvert_exporter": "python",
   "pygments_lexer": "ipython3",
   "version": "3.9.5"
  }
 },
 "nbformat": 4,
 "nbformat_minor": 5
}
