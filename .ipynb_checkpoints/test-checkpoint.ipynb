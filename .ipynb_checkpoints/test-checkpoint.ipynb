{
 "cells": [
  {
   "cell_type": "code",
   "execution_count": 10,
   "id": "bf9304cd",
   "metadata": {},
   "outputs": [],
   "source": [
    "import cenv\n",
    "env = cenv.create_env({\"min_periods\":26+9,\"window_size\":26+9})"
   ]
  },
  {
   "cell_type": "code",
   "execution_count": 11,
   "id": "39360065",
   "metadata": {},
   "outputs": [],
   "source": [
    "obs = env.reset()"
   ]
  },
  {
   "cell_type": "code",
   "execution_count": 12,
   "id": "66f3ce02",
   "metadata": {},
   "outputs": [
    {
     "data": {
      "text/plain": [
       "array([8743. , 8723.7, 8708.1, 8784.4, 8755.2, 8762. , 8742.6, 8512. ,\n",
       "       8520.8, 8532.1, 8553.8, 8516.5, 8551.2, 8516.7, 8476. , 8459.9,\n",
       "       8467.5, 8454.2, 8327.9, 8124.4, 8152. , 8205.3, 8197.7, 8223.9,\n",
       "       8221.1, 8194.2, 8225.1, 8357.2, 8358.5, 8348.6, 8158.1, 8205.9,\n",
       "       8276. , 8255.2, 8286.4], dtype=float32)"
      ]
     },
     "execution_count": 12,
     "metadata": {},
     "output_type": "execute_result"
    }
   ],
   "source": []
  },
  {
   "cell_type": "code",
   "execution_count": 13,
   "id": "bae05aa5",
   "metadata": {},
   "outputs": [
    {
     "name": "stdout",
     "output_type": "stream",
     "text": [
      "[          nan           nan           nan           nan           nan\n",
      "           nan           nan           nan           nan           nan\n",
      "           nan           nan           nan           nan           nan\n",
      "           nan           nan           nan           nan           nan\n",
      "           nan           nan           nan           nan           nan\n",
      "           nan           nan           nan           nan           nan\n",
      "           nan           nan           nan -110.19339259 -100.85668445] [          nan           nan           nan           nan           nan\n",
      "           nan           nan           nan           nan           nan\n",
      "           nan           nan           nan           nan           nan\n",
      "           nan           nan           nan           nan           nan\n",
      "           nan           nan           nan           nan           nan\n",
      "           nan           nan           nan           nan           nan\n",
      "           nan           nan           nan -141.64777076 -133.4895535 ] [        nan         nan         nan         nan         nan         nan\n",
      "         nan         nan         nan         nan         nan         nan\n",
      "         nan         nan         nan         nan         nan         nan\n",
      "         nan         nan         nan         nan         nan         nan\n",
      "         nan         nan         nan         nan         nan         nan\n",
      "         nan         nan         nan 31.45437818 32.63286905]\n"
     ]
    }
   ],
   "source": []
  }
 ],
 "metadata": {
  "kernelspec": {
   "display_name": "Python 3 (ipykernel)",
   "language": "python",
   "name": "python3"
  },
  "language_info": {
   "codemirror_mode": {
    "name": "ipython",
    "version": 3
   },
   "file_extension": ".py",
   "mimetype": "text/x-python",
   "name": "python",
   "nbconvert_exporter": "python",
   "pygments_lexer": "ipython3",
   "version": "3.9.5"
  }
 },
 "nbformat": 4,
 "nbformat_minor": 5
}
